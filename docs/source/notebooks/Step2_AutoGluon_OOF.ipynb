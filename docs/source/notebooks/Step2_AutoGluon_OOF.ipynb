{
 "cells": [
  {
   "metadata": {},
   "cell_type": "markdown",
   "source": "# Step2_AutoGluon_OOF",
   "id": "246a0753d9ced63"
  },
  {
   "metadata": {},
   "cell_type": "markdown",
   "source": "**Copyright (C) 2025 Sukanta Basu**",
   "id": "a04cdc53525eca0f"
  },
  {
   "metadata": {},
   "cell_type": "markdown",
   "source": [
    "This program is free software: you can redistribute it and/or modify\n",
    "it under the terms of the GNU General Public License as published by\n",
    "the Free Software Foundation, either version 3 of the License, or\n",
    "(at your option) any later version.\n",
    "\n",
    "This program is distributed in the hope that it will be useful,\n",
    "but WITHOUT ANY WARRANTY; without even the implied warranty of\n",
    "MERCHANTABILITY or FITNESS FOR A PARTICULAR PURPOSE.  See the\n",
    "GNU General Public License for more details.\n",
    "\n",
    "You should have received a copy of the GNU General Public License\n",
    "along with this program.  If not, see <https://www.gnu.org/licenses/>."
   ],
   "id": "f88e04044878be57"
  },
  {
   "metadata": {},
   "cell_type": "markdown",
   "source": "**Summary**",
   "id": "f270df2baf8f2306"
  },
  {
   "metadata": {},
   "cell_type": "markdown",
   "source": [
    "Description: generating out-of-fold (OOF) target values as additional features\n",
    "\n",
    "Author: Sukanta Basu\n",
    "\n",
    "Last Update: 2025-8-8"
   ],
   "id": "b1a3d24adce8ab06"
  },
  {
   "metadata": {},
   "cell_type": "markdown",
   "source": "**Overall Strategy**",
   "id": "cf8f97e0bd35df0b"
  },
  {
   "metadata": {},
   "cell_type": "markdown",
   "source": [
    "Step 1: preprocessing and feature generation\n",
    "\n",
    "Step 2: Use AutoGluon to generate OOF predictions for each target separately.\n",
    "These predictions will be used as additional input features in steps 3 and 4.\n",
    "\n",
    "Step 3: Train the RealMLP model with processed input (step 1) + ten\n",
    "AutoGluon-OOFs (step 2). These additional features will capture the correlation\n",
    "among targets effectively.\n",
    "\n",
    "Step 4: Similar to step 3 except use the TabPFN model.\n",
    "\n",
    "Step 5: Combine predictions from RealMLP (step 3) and TabPFN (step 4)."
   ],
   "id": "2b56e99773f9f8f2"
  },
  {
   "metadata": {},
   "cell_type": "markdown",
   "source": "**Imports**",
   "id": "1a96ba877e53bc1b"
  },
  {
   "metadata": {},
   "cell_type": "code",
   "outputs": [],
   "execution_count": null,
   "source": [
    "import numpy as np\n",
    "import pandas as pd\n",
    "import os\n",
    "import random\n",
    "import warnings\n",
    "\n",
    "from autogluon.tabular import TabularPredictor"
   ],
   "id": "5690a0094408a5bf"
  },
  {
   "metadata": {},
   "cell_type": "markdown",
   "source": "**Set Random Seeds**",
   "id": "9b8c651ce745d65b"
  },
  {
   "metadata": {},
   "cell_type": "code",
   "outputs": [],
   "execution_count": null,
   "source": [
    "random.seed(7)\n",
    "np.random.seed(7)"
   ],
   "id": "cd7eebb603f39cc1"
  },
  {
   "metadata": {},
   "cell_type": "markdown",
   "source": "**User Input**",
   "id": "7ef87b39e71027c1"
  },
  {
   "metadata": {},
   "cell_type": "code",
   "outputs": [],
   "execution_count": null,
   "source": [
    "# AutoGluon quality preset\n",
    "quality_preset = 'best_quality'\n",
    "\n",
    "# AutoGluon training time (in seconds)\n",
    "maxTime = 21600\n",
    "\n",
    "# Number of input features\n",
    "nFeatures = 65\n",
    "\n",
    "# Number of target variables\n",
    "nTargets = 10"
   ],
   "id": "b42562ac873ae2f7"
  },
  {
   "metadata": {},
   "cell_type": "markdown",
   "source": "**Input & Output Directories**",
   "id": "a0e955b8d1340774"
  },
  {
   "metadata": {},
   "cell_type": "code",
   "outputs": [],
   "execution_count": null,
   "source": [
    "ROOT_DIR = '/data/Sukanta/Works_AIML/2025_SHELL_FuelProperty/'\n",
    "DATA_DIR = ROOT_DIR + 'DATA/'\n",
    "ExtractedDATA_DIR = ROOT_DIR + 'ExtractedDATA/'\n",
    "Tuning_DIR = ROOT_DIR + 'Models/AutoGluon-OOF/'\n",
    "\n",
    "# Create directory if it doesn't exist\n",
    "os.makedirs(Tuning_DIR, exist_ok=True)"
   ],
   "id": "9ef35bbf7fb66929"
  },
  {
   "metadata": {},
   "cell_type": "markdown",
   "source": "**Load Processed Training and Testing Data**",
   "id": "4afbfc41d9bc6897"
  },
  {
   "metadata": {},
   "cell_type": "code",
   "outputs": [],
   "execution_count": null,
   "source": [
    "df_XyTrnVal_org = pd.read_csv(ExtractedDATA_DIR + 'train_processed.csv')\n",
    "nSamples_TrnVal = df_XyTrnVal_org.shape[0]\n",
    "\n",
    "df_XTst = pd.read_csv(ExtractedDATA_DIR + 'test_processed.csv')\n",
    "nSamples_Tst = df_XTst.shape[0]\n",
    "\n",
    "print(f\"Training data shape: {df_XyTrnVal_org.shape}\")\n",
    "print(f\"Test data shape: {df_XTst.shape}\")\n",
    "\n",
    "# Extract input features\n",
    "XTrnVal = df_XyTrnVal_org.iloc[:, 0:nFeatures]"
   ],
   "id": "62de12294936981f"
  },
  {
   "metadata": {},
   "cell_type": "markdown",
   "source": "**Iterative Single-target Training using AutoGluon**",
   "id": "8f7687daaaf7d237"
  },
  {
   "metadata": {},
   "cell_type": "code",
   "outputs": [],
   "execution_count": null,
   "source": [
    "# Initialize predictions array\n",
    "yTrnVal_OOF = np.zeros((nSamples_TrnVal, nTargets))\n",
    "yTst = np.zeros((nSamples_Tst, nTargets))\n",
    "\n",
    "for target in range(nTargets):\n",
    "    print(f\"\\n--- Target {target + 1}/{nTargets} ---\")\n",
    "\n",
    "    # Extract single target from possible nTargets\n",
    "    yTrnVal = df_XyTrnVal_org.iloc[:, nFeatures + target]\n",
    "\n",
    "    # Create training dataframe with features and target\n",
    "    train_data = XTrnVal.copy()\n",
    "    train_data[f'target_{target}'] = yTrnVal\n",
    "\n",
    "    # Create unique file path for each target\n",
    "    target_path = os.path.join(Tuning_DIR, f'target_{target + 1}')\n",
    "    os.makedirs(target_path, exist_ok=True)\n",
    "\n",
    "    # Initialize TabularPredictor from AutoGluon\n",
    "    predictor = TabularPredictor(\n",
    "        label=f'target_{target}',\n",
    "        path=target_path,\n",
    "        eval_metric='mean_absolute_percentage_error',\n",
    "        problem_type='regression'\n",
    "    )\n",
    "\n",
    "    # Train the model\n",
    "    print(\"Starting AutoGluon training...\")\n",
    "    predictor.fit(\n",
    "        train_data,\n",
    "        time_limit=maxTime,\n",
    "        presets=quality_preset,\n",
    "        verbosity=2,\n",
    "        auto_stack=False,\n",
    "        dynamic_stacking=False,\n",
    "        num_bag_folds=8,\n",
    "        num_bag_sets=5,\n",
    "        num_stack_levels=2,\n",
    "        use_bag_holdout=False,\n",
    "        fit_strategy=\"sequential\",\n",
    "        ag_args_ensemble={'fold_fitting_strategy': \"parallel_local\"},\n",
    "        ds_args={'enable_ray_logging': False}\n",
    "    )\n",
    "\n",
    "    print(\"\\n Model Leaderboard:\")\n",
    "    leaderboard = predictor.leaderboard(silent=True)\n",
    "    print(leaderboard.sort_values(\"score_val\", ascending=False).head())\n",
    "\n",
    "    # OOF predictions based on training set\n",
    "    yTrnVal_OOF[:, target] = predictor.predict_oof()\n",
    "\n",
    "    # Make predictions on test set\n",
    "    yTst[:, target] = predictor.predict(df_XTst)\n",
    "    print(f\"Test predictions generated for target {target + 1}\")\n",
    "\n",
    "    # Clean up predictor to free memory\n",
    "    del predictor"
   ],
   "id": "d51a4003a1b94737"
  },
  {
   "metadata": {},
   "cell_type": "markdown",
   "source": "**Save Results**",
   "id": "d0ccfa2e9369bfc5"
  },
  {
   "metadata": {},
   "cell_type": "code",
   "outputs": [],
   "execution_count": null,
   "source": [
    "print(\"\\n=== SAVING RESULTS ===\")\n",
    "\n",
    "# Create dataframes\n",
    "df_AG_yTrnVal_OOF = pd.DataFrame()\n",
    "df_AG_yTst = pd.DataFrame()\n",
    "\n",
    "# Add prediction columns\n",
    "for i in range(nTargets):\n",
    "    df_AG_yTrnVal_OOF[f'AG-BlendProperty{i + 1}'] = yTrnVal_OOF[:, i]\n",
    "    df_AG_yTst[f'AG-BlendProperty{i+1}'] = yTst[:, i]\n",
    "\n",
    "# Save predictions\n",
    "AG_OOF_file = os.path.join(ExtractedDATA_DIR, f'AutoGluon_{maxTime}_OOF.csv')\n",
    "df_AG_yTrnVal_OOF.to_csv(AG_OOF_file, index=False)\n",
    "\n",
    "AG_Tst_file = os.path.join(ExtractedDATA_DIR, f'AutoGluon_{maxTime}_Tst.csv')\n",
    "df_AG_yTst.to_csv(AG_Tst_file, index=False)\n",
    "\n",
    "print(f\"AutoGluon training completed!\")"
   ],
   "id": "initial_id"
  }
 ],
 "metadata": {
  "kernelspec": {
   "display_name": "Python 3",
   "language": "python",
   "name": "python3"
  },
  "language_info": {
   "codemirror_mode": {
    "name": "ipython",
    "version": 2
   },
   "file_extension": ".py",
   "mimetype": "text/x-python",
   "name": "python",
   "nbconvert_exporter": "python",
   "pygments_lexer": "ipython2",
   "version": "2.7.6"
  }
 },
 "nbformat": 4,
 "nbformat_minor": 5
}
